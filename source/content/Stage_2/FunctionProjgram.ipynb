{
 "metadata": {
  "name": "FunctionProjgram"
 },
 "nbformat": 3,
 "nbformat_minor": 0,
 "worksheets": [
  {
   "cells": [
    {
     "cell_type": "heading",
     "level": 1,
     "metadata": {},
     "source": [
      "\u4e00\u76f4\u4ee5\u6765\uff0c\u53ea\u662f\u5229\u7528map,filter,reduce\u8fd9\u4e2a\u51e0\u4e2a\u51fd\u6570\uff0c\u5176\u5b9e\u4efb\u610f\u4e00\u4e2a\u51fd\u6570\u90fd\u662f\u53ef\u4ee5\u8fd9\u6837\u7684\u505a\uff0c\u81ea\u5df1\u7ea0\u7ed3\u7684\u53c2\u6570\u4f20\u9012\u4e5f\u90fd\u4e0d\u662f\u95ee\u9898"
     ]
    },
    {
     "cell_type": "code",
     "collapsed": false,
     "input": [
      "def add(x):\n",
      "    return x+1;\n",
      "\n",
      "def sumall(term ,x,nx ,b):\n",
      "    return term(x) + nx +b\n",
      "\n",
      "sumall(add ,1,2,3)"
     ],
     "language": "python",
     "metadata": {},
     "outputs": []
    },
    {
     "cell_type": "heading",
     "level": 1,
     "metadata": {},
     "source": [
      "\u6240\u8c13\u7684\u51fd\u6570\u5f0f\u7f16\u7a0b\u53ea\u4e0d\u8fc7\u662f\u628areturn\u7ed9\u7b80\u5316\u6389\u4e0d\u7528\u5199\u4e86\u3002\u4f8b\u5982\u4e0b\u9762\u4f8b\u5b50\uff0c\u90a3\u5c31\u662f\u4e00\u4e2a\u6c42\u7acb\u65b9\u548c\u7684\u8fc7\u7a0b\uff0c\u6bcf\u4e00\u4e2a\u516c\u7528\u90e8\u5206\u90fd\u53d8\u6210\u51fd\u6570\uff0cterm \u662f\u4e00\u4e2a\u51fd\u6570\uff0c\u800cnx\u5219\u662f\u6b65\u8fdb\u51fd\u6570\u3002 \u592a\u65b9\u4fbf\u4e86\u3002"
     ]
    },
    {
     "cell_type": "raw",
     "metadata": {},
     "source": [
      "def allsum(term,a,nx,b):\n",
      "    if a>b:\n",
      "         return 0\n",
      "    else :\n",
      "         return term(a)+allsum(term,nx(a),nx,b)\n",
      "        \n",
      "\n",
      "def inc(x):\n",
      "     return x +1;\n",
      "    \n",
      "def cube(x):\n",
      "     return x*x*x\n",
      "\n",
      "    \n",
      "allsum(cube,1,inc,10)"
     ]
    },
    {
     "cell_type": "raw",
     "metadata": {},
     "source": [
      "\u800cscheme\u4e2d\u7684let \u5b9a\u4e49\u7684\u8fc7\u7a0b\uff0c\u5176\u5b9e\u76f8\u5f53\u4e8e\u53c2\u6570\u65b9\u7a0b\u7684\u8f6c\u5316\u8fc7\u7a0b\u3002 \u5b9a\u4e49\u4e00\u4e2alet \u5c31\u76f8\u5f53\u4e8e\u4e00\u4e2a\u53c2\u6570\u8f6c\u6362\uff0c\u8fd9\u4e2a\u5728\u6570\u503c\u8ba1\u7b97\u7684\u65f6\u5019\u4f1a\u975e\u5e38\u7684\u65b9\u4fbf\n"
     ]
    },
    {
     "cell_type": "raw",
     "metadata": {},
     "source": [
      "\u6570\u636e\u7684\u62bd\u8c61\uff0c\u9700\u8981\u6784\u9020\u51fd\u6570\u4ee5\u53ca\u9009\u62e9\u51fd\u6570\u3002\u8fd9\u6837\u8131\u79bb\u5177\u4f53\u6570\u636e\u6709\u4e86\u62bd\u8c61\u7684\u4e00\u5c42\u3002\u66f4\u57fa\u672c\u7684\u62bd\u8c61\u90a3\u5c31\u662f cons, car,cdr \u8fd9\u6837\u7684\u64cd\u4f5c\uff0c\u5efa\u7acb\u4e86\u5168\u90e8\u7684\u64cd\u4f5c\u3002list \u5c31\u662f\u8fd9\u79cd\u5d4c\u5957const\u7684\u5b9e\u73b0\u3002"
     ]
    },
    {
     "cell_type": "raw",
     "metadata": {},
     "source": [
      "\u4e0d\u5b9a\u957f\u53c2\u6570\u7684\u5b9e\u73b0 *list  **dict "
     ]
    },
    {
     "cell_type": "code",
     "collapsed": false,
     "input": [
      "def addall(*elements)\n",
      "     print elements\n",
      "     reduce(lambda x,y:x+y,elements)\n",
      "        \n",
      "def addall(**elements)\n",
      "     print elements"
     ],
     "language": "python",
     "metadata": {},
     "outputs": []
    },
    {
     "cell_type": "raw",
     "metadata": {},
     "source": [
      "\u539f\u6765\u7684\u8bed\u8a00\uff0c\u6240\u6709\u7684\u6784\u9020\u90fd\u662f\u57fa\u4e8e\u5177\u4f53\u6982\u5ff5\uff0c\u53ef\u4e0d\u53ef\u4ee5\u76f4\u63a5\u57fa\u4e8e\u62bd\u8c61\u6982\u5ff5\u6765\u63a8\u7406\u5462\uff0c\u4e5f\u5c31\u7b26\u53f7\u8ba1\u7b97\u4e86\u3002\u4e5f\u5c31\u662f\u5982\u4f55\u76f4\u63a5\u5b9a\u4e49\u4e00\u4e2atoken\u7684\u8fc7\u7a0b\u3002\u5728 scheme \u7528 'a \u76f4\u63a5\u6765\u5b9a\u4e49\uff0c\u800cpython\u4e2d\u5462\uff0c\u6709\u4e86\uff0c\u90a3\u5c31\u662f\u4e00\u4e2a\u5b9a\u4e49\u4e00\u4e2a\u7a7a\u7c7b\uff0c\n",
      "class a(object):\n",
      "      pass"
     ]
    },
    {
     "cell_type": "code",
     "collapsed": false,
     "input": [
      "class elem(object):\n",
      "    pass\n",
      "\n",
      "class add(object):\n",
      "     pass\n",
      "    \n",
      "    \n",
      "mylist = [ elem,add]\n",
      "print mylist"
     ],
     "language": "python",
     "metadata": {},
     "outputs": [
      {
       "output_type": "stream",
       "stream": "stdout",
       "text": [
        "[<class '__main__.elem'>, <class '__main__.add'>]\n"
       ]
      }
     ],
     "prompt_number": 3
    },
    {
     "cell_type": "code",
     "collapsed": false,
     "input": [
      "mylist[0]"
     ],
     "language": "python",
     "metadata": {},
     "outputs": [
      {
       "output_type": "pyout",
       "prompt_number": 4,
       "text": [
        "__main__.elem"
       ]
      }
     ],
     "prompt_number": 4
    },
    {
     "cell_type": "raw",
     "metadata": {},
     "source": [
      "\u5f15\u5165\u7b26\u53f7\u5c31\u53ef\u4ee5\u8fdb\u884c\u6c42\u5bfc\u8ba1\u7b97\u4e86\uff0c\u53e6\u5916\u90a3set,dict,sorted list ,unsorted list,\u6570\u636e\u62bd\u8c61\u5c4f\u969c\u662f\u63a7\u5236\u590d\u6742\u6027\u7684\u5f3a\u6709\u529b\u5de5\u5177\u3002 \u8fdb\u4e00\u6b65\u5f15\u5bfc\u5165\u64cd\u4f5c\u6620\u5c04\u8868\uff0c\u4e5f\u5c31\u50cf\u6240\u8c13\u7684\u7c7b\u578b\u63a8\u5bfc\u3002 \u4e4b\u524d\u6709\u6784\u9020\u8868\u7ed3\u6784\uff0c\u9009\u62e9\u8868\u7ed3\u6784\uff0c\u8fd8\u6709\u4e86\u4fee\u6539\u8868\u7ed3\u6784\u3002\n",
      "\n",
      "\u5728\u51fd\u6570\u91cc\u52a0 \n",
      "add (int x,int b)\n",
      "{static state,\n",
      "   return x,b\n",
      "}\n",
      "\n",
      "python \u65f6\u5b9e\u73b0\u8fd9\u6837\u7684\u529f\u80fd\uff0c\u90a3\u9700\u8981\u8fd0\u7b97\u7b26()\u8fd9\u4e2a\u529f\u80fd\u3002\u5f53\u6837\u5c31\u628aclass\u4ee5\u53ca\u51fd\u6570\u6210\u4e00\u4e2a\u4e86\u3002\u5f53\u7136\u53ef\u4ee5\u4f7f\u7528\u95ed\u5305\u6765\u5b9e\u73b0\u8fd9\u6837\u4e1c\u4e1c\uff0c\u4f46\u662f\u90a3\u4e2a\u4e00\u6b21\u6027\uff0c\u5982\u4f55\u5b9e\u65f6\u6027\u6539\u3002\u53ef\u4ee5\u901a\u8fc7__call__ \u6765\u5b9e\u73b0\u8fd9\u4e2a\u91cd\u8f7d\u3002\n",
      "\n",
      "scheme \u4e2d\u6d41\u7684\u6982\u5ff5\u5176\u5b9e\u5c31\u662f\u5229\u7528yeild\u7684\u5b9e\u73b0\u57fa\u5236\u3002\n",
      "\n",
      "parallel  \u8fdb\u884c\u6267\u884c\u3002 \u5982\u4f55\u9a71\u52a8\u7f51\u7edc\u7f51\u524d\u8d70\uff0c\u8fd9\u5c31\u662f\u8bbe\u8ba1\u7f51\u7edc\u3002\n",
      "\n",
      " \u539f\u6765\u8bed\u8a00\u7684\u53d1\u5c55\u6bcf\u4e00\u6b65\u7684\u53d1\u5c55\u90fd\u662f\u73b0\u5b9e\u95ee\u9898\u7684\u62bd\u8c61\uff0cdelay \u4e0eforce\u66f4\u662f\u5982\u6b64\u3002         \n",
      " \n",
      " \n",
      " \u6d41\u5f0f\u8ba1\u7b97\u6a21\u5f0f\u7684\u4f7f\u7528\u662f\u4e00\u79cd\u529f\u80fd\u5f3a\u5927\u7684\u6a21\u62df\u5de5\u5177\uff0c\u80fd\u63d0\u4f9b\u5c40\u90e8\u72b6\u6001\u548c\u8d4b\u503c\u7684\u8bb8\u591a\u6548\u76ca\u3002\n",
      " \n",
      " \u540c\u6837\u7684\u8bbe\u8ba1\u6a21\u5f0f\uff0c\u6211\u4eec\u662f\u4e0d\u662f\u53ef\u4ee5\u7528\u4e8e\u795e\u7ecf\u7f51\u7edc\u7684\u8ba1\u7b97\u3002\n",
      " \n",
      " \u4f7f\u7528\u6d41\u6765\u5b9e\u73b0\u5bf9\u65e0\u7a77\u7ea7\u6570\u8ba1\u7b97\uff0c\u65e0\u7a77\u7ea7\u6570\u7684\u7f16\u7a0b\u5b9e\u73b0\u3002\n",
      " \n",
      " \u5e76\u4e14\u5ef6\u65f6\u4e5f\u53ef\u4ee5\u6d41\u91cc\u8fb9\u5b9e\u73b0\u7684\u3002\n",
      " \n",
      " \u975e\u786e\u5b9a\u6027\u7684\u8ba1\u7b97"
     ]
    },
    {
     "cell_type": "code",
     "collapsed": false,
     "input": [
      "def getany(*lista):\n",
      "     if lista:\n",
      "       return lista[0]+lista[1]+lista[2]+getany(lista[3:])\n",
      "     else:\n",
      "       return 0\n",
      "       \n",
      "getany(1,2,3,4,5,6)"
     ],
     "language": "python",
     "metadata": {},
     "outputs": [
      {
       "ename": "IndexError",
       "evalue": "tuple index out of range",
       "output_type": "pyerr",
       "traceback": [
        "\u001b[1;31m---------------------------------------------------------------------------\u001b[0m\n\u001b[1;31mIndexError\u001b[0m                                Traceback (most recent call last)",
        "\u001b[1;32m<ipython-input-9-5c6a18dd1a7b>\u001b[0m in \u001b[0;36m<module>\u001b[1;34m()\u001b[0m\n\u001b[0;32m      5\u001b[0m        \u001b[1;32mreturn\u001b[0m \u001b[1;36m0\u001b[0m\u001b[1;33m\u001b[0m\u001b[0m\n\u001b[0;32m      6\u001b[0m \u001b[1;33m\u001b[0m\u001b[0m\n\u001b[1;32m----> 7\u001b[1;33m \u001b[0mgetany\u001b[0m\u001b[1;33m(\u001b[0m\u001b[1;36m1\u001b[0m\u001b[1;33m,\u001b[0m\u001b[1;36m2\u001b[0m\u001b[1;33m,\u001b[0m\u001b[1;36m3\u001b[0m\u001b[1;33m,\u001b[0m\u001b[1;36m4\u001b[0m\u001b[1;33m,\u001b[0m\u001b[1;36m5\u001b[0m\u001b[1;33m,\u001b[0m\u001b[1;36m6\u001b[0m\u001b[1;33m)\u001b[0m\u001b[1;33m\u001b[0m\u001b[0m\n\u001b[0m",
        "\u001b[1;32m<ipython-input-9-5c6a18dd1a7b>\u001b[0m in \u001b[0;36mgetany\u001b[1;34m(*lista)\u001b[0m\n\u001b[0;32m      1\u001b[0m \u001b[1;32mdef\u001b[0m \u001b[0mgetany\u001b[0m\u001b[1;33m(\u001b[0m\u001b[1;33m*\u001b[0m\u001b[0mlista\u001b[0m\u001b[1;33m)\u001b[0m\u001b[1;33m:\u001b[0m\u001b[1;33m\u001b[0m\u001b[0m\n\u001b[0;32m      2\u001b[0m      \u001b[1;32mif\u001b[0m \u001b[0mlista\u001b[0m\u001b[1;33m:\u001b[0m\u001b[1;33m\u001b[0m\u001b[0m\n\u001b[1;32m----> 3\u001b[1;33m        \u001b[1;32mreturn\u001b[0m \u001b[0mlista\u001b[0m\u001b[1;33m[\u001b[0m\u001b[1;36m0\u001b[0m\u001b[1;33m]\u001b[0m\u001b[1;33m+\u001b[0m\u001b[0mlista\u001b[0m\u001b[1;33m[\u001b[0m\u001b[1;36m1\u001b[0m\u001b[1;33m]\u001b[0m\u001b[1;33m+\u001b[0m\u001b[0mlista\u001b[0m\u001b[1;33m[\u001b[0m\u001b[1;36m2\u001b[0m\u001b[1;33m]\u001b[0m\u001b[1;33m+\u001b[0m\u001b[0mgetany\u001b[0m\u001b[1;33m(\u001b[0m\u001b[0mlista\u001b[0m\u001b[1;33m[\u001b[0m\u001b[1;36m3\u001b[0m\u001b[1;33m:\u001b[0m\u001b[1;33m]\u001b[0m\u001b[1;33m)\u001b[0m\u001b[1;33m\u001b[0m\u001b[0m\n\u001b[0m\u001b[0;32m      4\u001b[0m      \u001b[1;32melse\u001b[0m\u001b[1;33m:\u001b[0m\u001b[1;33m\u001b[0m\u001b[0m\n\u001b[0;32m      5\u001b[0m        \u001b[1;32mreturn\u001b[0m \u001b[1;36m0\u001b[0m\u001b[1;33m\u001b[0m\u001b[0m\n",
        "\u001b[1;32m<ipython-input-9-5c6a18dd1a7b>\u001b[0m in \u001b[0;36mgetany\u001b[1;34m(*lista)\u001b[0m\n\u001b[0;32m      1\u001b[0m \u001b[1;32mdef\u001b[0m \u001b[0mgetany\u001b[0m\u001b[1;33m(\u001b[0m\u001b[1;33m*\u001b[0m\u001b[0mlista\u001b[0m\u001b[1;33m)\u001b[0m\u001b[1;33m:\u001b[0m\u001b[1;33m\u001b[0m\u001b[0m\n\u001b[0;32m      2\u001b[0m      \u001b[1;32mif\u001b[0m \u001b[0mlista\u001b[0m\u001b[1;33m:\u001b[0m\u001b[1;33m\u001b[0m\u001b[0m\n\u001b[1;32m----> 3\u001b[1;33m        \u001b[1;32mreturn\u001b[0m \u001b[0mlista\u001b[0m\u001b[1;33m[\u001b[0m\u001b[1;36m0\u001b[0m\u001b[1;33m]\u001b[0m\u001b[1;33m+\u001b[0m\u001b[0mlista\u001b[0m\u001b[1;33m[\u001b[0m\u001b[1;36m1\u001b[0m\u001b[1;33m]\u001b[0m\u001b[1;33m+\u001b[0m\u001b[0mlista\u001b[0m\u001b[1;33m[\u001b[0m\u001b[1;36m2\u001b[0m\u001b[1;33m]\u001b[0m\u001b[1;33m+\u001b[0m\u001b[0mgetany\u001b[0m\u001b[1;33m(\u001b[0m\u001b[0mlista\u001b[0m\u001b[1;33m[\u001b[0m\u001b[1;36m3\u001b[0m\u001b[1;33m:\u001b[0m\u001b[1;33m]\u001b[0m\u001b[1;33m)\u001b[0m\u001b[1;33m\u001b[0m\u001b[0m\n\u001b[0m\u001b[0;32m      4\u001b[0m      \u001b[1;32melse\u001b[0m\u001b[1;33m:\u001b[0m\u001b[1;33m\u001b[0m\u001b[0m\n\u001b[0;32m      5\u001b[0m        \u001b[1;32mreturn\u001b[0m \u001b[1;36m0\u001b[0m\u001b[1;33m\u001b[0m\u001b[0m\n",
        "\u001b[1;31mIndexError\u001b[0m: tuple index out of range"
       ]
      }
     ],
     "prompt_number": 9
    },
    {
     "cell_type": "raw",
     "metadata": {},
     "source": [
      "http://stackoverflow.com/questions/238102/pattern-matching-of-lists-in-python\n",
      "\n",
      "\u5728python \u6ca1\u6709 car,cdr\u8fd9\u6837\u7684\u673a\u5236\uff0c\u9700\u8981\u81ea\u5df1\u5229\u7528lambda \u5b9e\u73b0\uff0c\u800c\u5728 3.0 \u662f\u6709\u8fd9\u6837\u7684\u5b9e\u73b0\u3002"
     ]
    },
    {
     "cell_type": "code",
     "collapsed": false,
     "input": [
      "def get_three(term,n,*abc):\n",
      "        if len(abc) < n:\n",
      "            return sum(abc)\n",
      "        return term(abc[:n]) + get_treee(term,3,abc[n:])\n",
      "def add(*ele):\n",
      "    re(ele)\n",
      "    \n",
      "get_three(add,1,1,2,3,4,5,6)"
     ],
     "language": "python",
     "metadata": {},
     "outputs": [
      {
       "ename": "TypeError",
       "evalue": "unsupported operand type(s) for +: 'int' and 'tuple'",
       "output_type": "pyerr",
       "traceback": [
        "\u001b[1;31m---------------------------------------------------------------------------\u001b[0m\n\u001b[1;31mTypeError\u001b[0m                                 Traceback (most recent call last)",
        "\u001b[1;32m<ipython-input-14-99aa97bda387>\u001b[0m in \u001b[0;36m<module>\u001b[1;34m()\u001b[0m\n\u001b[0;32m      6\u001b[0m     \u001b[0msum\u001b[0m\u001b[1;33m(\u001b[0m\u001b[0mele\u001b[0m\u001b[1;33m)\u001b[0m\u001b[1;33m\u001b[0m\u001b[0m\n\u001b[0;32m      7\u001b[0m \u001b[1;33m\u001b[0m\u001b[0m\n\u001b[1;32m----> 8\u001b[1;33m \u001b[0mget_three\u001b[0m\u001b[1;33m(\u001b[0m\u001b[0madd\u001b[0m\u001b[1;33m,\u001b[0m\u001b[1;36m1\u001b[0m\u001b[1;33m,\u001b[0m\u001b[1;36m1\u001b[0m\u001b[1;33m,\u001b[0m\u001b[1;36m2\u001b[0m\u001b[1;33m,\u001b[0m\u001b[1;36m3\u001b[0m\u001b[1;33m,\u001b[0m\u001b[1;36m4\u001b[0m\u001b[1;33m,\u001b[0m\u001b[1;36m5\u001b[0m\u001b[1;33m,\u001b[0m\u001b[1;36m6\u001b[0m\u001b[1;33m)\u001b[0m\u001b[1;33m\u001b[0m\u001b[0m\n\u001b[0m",
        "\u001b[1;32m<ipython-input-14-99aa97bda387>\u001b[0m in \u001b[0;36mget_three\u001b[1;34m(term, n, *abc)\u001b[0m\n\u001b[0;32m      2\u001b[0m         \u001b[1;32mif\u001b[0m \u001b[0mlen\u001b[0m\u001b[1;33m(\u001b[0m\u001b[0mabc\u001b[0m\u001b[1;33m)\u001b[0m \u001b[1;33m<\u001b[0m \u001b[0mn\u001b[0m\u001b[1;33m:\u001b[0m\u001b[1;33m\u001b[0m\u001b[0m\n\u001b[0;32m      3\u001b[0m             \u001b[1;32mreturn\u001b[0m \u001b[0msum\u001b[0m\u001b[1;33m(\u001b[0m\u001b[0mabc\u001b[0m\u001b[1;33m)\u001b[0m\u001b[1;33m\u001b[0m\u001b[0m\n\u001b[1;32m----> 4\u001b[1;33m         \u001b[1;32mreturn\u001b[0m \u001b[0mterm\u001b[0m\u001b[1;33m(\u001b[0m\u001b[0mabc\u001b[0m\u001b[1;33m[\u001b[0m\u001b[1;33m:\u001b[0m\u001b[0mn\u001b[0m\u001b[1;33m]\u001b[0m\u001b[1;33m)\u001b[0m \u001b[1;33m+\u001b[0m \u001b[0mget_treee\u001b[0m\u001b[1;33m(\u001b[0m\u001b[0mterm\u001b[0m\u001b[1;33m,\u001b[0m\u001b[1;36m3\u001b[0m\u001b[1;33m,\u001b[0m\u001b[0mabc\u001b[0m\u001b[1;33m[\u001b[0m\u001b[0mn\u001b[0m\u001b[1;33m:\u001b[0m\u001b[1;33m]\u001b[0m\u001b[1;33m)\u001b[0m\u001b[1;33m\u001b[0m\u001b[0m\n\u001b[0m\u001b[0;32m      5\u001b[0m \u001b[1;32mdef\u001b[0m \u001b[0madd\u001b[0m\u001b[1;33m(\u001b[0m\u001b[1;33m*\u001b[0m\u001b[0mele\u001b[0m\u001b[1;33m)\u001b[0m\u001b[1;33m:\u001b[0m\u001b[1;33m\u001b[0m\u001b[0m\n\u001b[0;32m      6\u001b[0m     \u001b[0msum\u001b[0m\u001b[1;33m(\u001b[0m\u001b[0mele\u001b[0m\u001b[1;33m)\u001b[0m\u001b[1;33m\u001b[0m\u001b[0m\n",
        "\u001b[1;32m<ipython-input-14-99aa97bda387>\u001b[0m in \u001b[0;36madd\u001b[1;34m(*ele)\u001b[0m\n\u001b[0;32m      4\u001b[0m         \u001b[1;32mreturn\u001b[0m \u001b[0mterm\u001b[0m\u001b[1;33m(\u001b[0m\u001b[0mabc\u001b[0m\u001b[1;33m[\u001b[0m\u001b[1;33m:\u001b[0m\u001b[0mn\u001b[0m\u001b[1;33m]\u001b[0m\u001b[1;33m)\u001b[0m \u001b[1;33m+\u001b[0m \u001b[0mget_treee\u001b[0m\u001b[1;33m(\u001b[0m\u001b[0mterm\u001b[0m\u001b[1;33m,\u001b[0m\u001b[1;36m3\u001b[0m\u001b[1;33m,\u001b[0m\u001b[0mabc\u001b[0m\u001b[1;33m[\u001b[0m\u001b[0mn\u001b[0m\u001b[1;33m:\u001b[0m\u001b[1;33m]\u001b[0m\u001b[1;33m)\u001b[0m\u001b[1;33m\u001b[0m\u001b[0m\n\u001b[0;32m      5\u001b[0m \u001b[1;32mdef\u001b[0m \u001b[0madd\u001b[0m\u001b[1;33m(\u001b[0m\u001b[1;33m*\u001b[0m\u001b[0mele\u001b[0m\u001b[1;33m)\u001b[0m\u001b[1;33m:\u001b[0m\u001b[1;33m\u001b[0m\u001b[0m\n\u001b[1;32m----> 6\u001b[1;33m     \u001b[0msum\u001b[0m\u001b[1;33m(\u001b[0m\u001b[0mele\u001b[0m\u001b[1;33m)\u001b[0m\u001b[1;33m\u001b[0m\u001b[0m\n\u001b[0m\u001b[0;32m      7\u001b[0m \u001b[1;33m\u001b[0m\u001b[0m\n\u001b[0;32m      8\u001b[0m \u001b[0mget_three\u001b[0m\u001b[1;33m(\u001b[0m\u001b[0madd\u001b[0m\u001b[1;33m,\u001b[0m\u001b[1;36m1\u001b[0m\u001b[1;33m,\u001b[0m\u001b[1;36m1\u001b[0m\u001b[1;33m,\u001b[0m\u001b[1;36m2\u001b[0m\u001b[1;33m,\u001b[0m\u001b[1;36m3\u001b[0m\u001b[1;33m,\u001b[0m\u001b[1;36m4\u001b[0m\u001b[1;33m,\u001b[0m\u001b[1;36m5\u001b[0m\u001b[1;33m,\u001b[0m\u001b[1;36m6\u001b[0m\u001b[1;33m)\u001b[0m\u001b[1;33m\u001b[0m\u001b[0m\n",
        "\u001b[1;31mTypeError\u001b[0m: unsupported operand type(s) for +: 'int' and 'tuple'"
       ]
      }
     ],
     "prompt_number": 14
    },
    {
     "cell_type": "code",
     "collapsed": false,
     "input": [],
     "language": "python",
     "metadata": {},
     "outputs": []
    }
   ],
   "metadata": {}
  }
 ]
}